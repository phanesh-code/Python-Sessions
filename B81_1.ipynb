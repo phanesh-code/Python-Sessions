{
 "cells": [
  {
   "cell_type": "code",
   "execution_count": 1,
   "id": "b85fd9bb-cfd3-44fa-9a02-085fa2fdc97b",
   "metadata": {},
   "outputs": [
    {
     "name": "stdout",
     "output_type": "stream",
     "text": [
      "Hello Welcome to Python Fundamentals Day1 of B87!!\n"
     ]
    }
   ],
   "source": [
    "print(\"Hello Welcome to Python Fundamentals Day1 of B87!!\")"
   ]
  },
  {
   "cell_type": "code",
   "execution_count": null,
   "id": "745622b1-6843-43cb-9710-6519ec520d20",
   "metadata": {},
   "outputs": [],
   "source": []
  }
 ],
 "metadata": {
  "kernelspec": {
   "display_name": "Python 3 (ipykernel)",
   "language": "python",
   "name": "python3"
  },
  "language_info": {
   "codemirror_mode": {
    "name": "ipython",
    "version": 3
   },
   "file_extension": ".py",
   "mimetype": "text/x-python",
   "name": "python",
   "nbconvert_exporter": "python",
   "pygments_lexer": "ipython3",
   "version": "3.12.4"
  }
 },
 "nbformat": 4,
 "nbformat_minor": 5
}
